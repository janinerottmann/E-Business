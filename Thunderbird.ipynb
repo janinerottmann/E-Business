{
  "nbformat": 4,
  "nbformat_minor": 0,
  "metadata": {
    "colab": {
      "name": "Thunderbird.ipynb",
      "provenance": [],
      "collapsed_sections": [],
      "authorship_tag": "ABX9TyNr1Uf+c+dJHkeL/fyrlE/d",
      "include_colab_link": true
    },
    "kernelspec": {
      "name": "python3",
      "display_name": "Python 3"
    },
    "language_info": {
      "name": "python"
    }
  },
  "cells": [
    {
      "cell_type": "markdown",
      "metadata": {
        "id": "view-in-github",
        "colab_type": "text"
      },
      "source": [
        "<a href=\"https://colab.research.google.com/github/janinerottmann/E-Business/blob/main/Thunderbird.ipynb\" target=\"_parent\"><img src=\"https://colab.research.google.com/assets/colab-badge.svg\" alt=\"Open In Colab\"/></a>"
      ]
    },
    {
      "cell_type": "code",
      "execution_count": 1,
      "metadata": {
        "id": "DUFYyBNEr3U9"
      },
      "outputs": [],
      "source": [
        "# libraries\n",
        "import pandas as pd\n",
        "import numpy as np\n",
        "import matplotlib.pyplot as plt\n",
        "import seaborn as sns\n",
        "import re"
      ]
    },
    {
      "cell_type": "code",
      "source": [
        "# Data\n",
        "df = pd.read_csv(\"https://raw.githubusercontent.com/janinerottmann/E-Business/main/data/data.csv\", sep=';')"
      ],
      "metadata": {
        "id": "0pQo-He9sTIT"
      },
      "execution_count": 2,
      "outputs": []
    },
    {
      "cell_type": "code",
      "source": [
        "\n",
        "# Data Preparation\n",
        "df.rename(columns = {'Goal conversion rate all goals':'Conversion Rate', \n",
        "                     'Goal completions all goals':'Conversions'}, inplace = True)\n",
        "\n",
        "for col in ['Bounce rate', 'New visits %', 'Conversion Rate']:\n",
        "  df[col] = df[col].str.replace(',',\".\")\n",
        "  df[col] = df[col].astype(float)"
      ],
      "metadata": {
        "id": "-2JSYZvPLauG"
      },
      "execution_count": 3,
      "outputs": []
    },
    {
      "cell_type": "code",
      "source": [
        "df.head(10)"
      ],
      "metadata": {
        "colab": {
          "base_uri": "https://localhost:8080/",
          "height": 392
        },
        "id": "CYqNZVgbTevU",
        "outputId": "22a9860f-722b-4c65-d77e-985f736621bc"
      },
      "execution_count": 4,
      "outputs": [
        {
          "output_type": "execute_result",
          "data": {
            "text/plain": [
              "       Region     Land              Source    Medium  Unique visitors  Visits  \\\n",
              "0     Arizona      USA            (direct)    (none)             7669   19118   \n",
              "1   (not set)  not set              google   organic             5462    7756   \n",
              "2     Arizona      USA              google   organic             5445   11489   \n",
              "3   (not set)  not set            (direct)    (none)             5307    7206   \n",
              "4  California      USA              google   organic             3903    5753   \n",
              "5  California      USA            (direct)    (none)             2857    4678   \n",
              "6    New York      USA              google   organic             2658    3612   \n",
              "7     Arizona      USA  my.thunderbird.edu  referral              854    2425   \n",
              "8       Texas      USA              google   organic             1987    2541   \n",
              "9     Arizona      USA             google        cpc             2834    3123   \n",
              "\n",
              "   New visits  Bounces  Pageviews Total time on site  ...  \\\n",
              "0        7332     9071      64454         1255:43:51  ...   \n",
              "1        5094     3330      31031          521:09:20  ...   \n",
              "2        4675     4162      50256          805:55:20  ...   \n",
              "3        5153     3739      18260          347:26:08  ...   \n",
              "4        3638     2470      23536          307:17:50  ...   \n",
              "5        2707     2045      17401          272:27:33  ...   \n",
              "6        2492     1635      12836          155:59:06  ...   \n",
              "7         539      892      11146          185:03:31  ...   \n",
              "8        1855      985      10379          129:47:23  ...   \n",
              "9        2378     1656       8666          696:33:24  ...   \n",
              "\n",
              "   Avg. pageviews per visit  Pageviews2 Unique pageviews Entrances  Exits  \\\n",
              "0                       3,4       64454            45074     19048  19048   \n",
              "1                       4,0       31031            24545      7733   7733   \n",
              "2                       4,4       50256            37850     11467  11467   \n",
              "3                       2,5       18260            15033      7176   7176   \n",
              "4                       4,1       23536            18575      5740   5740   \n",
              "5                       3,7       17401            12423      4666   4666   \n",
              "6                       3,6       12836            10304      3607   3606   \n",
              "7                       4,6       11146             8323      2419   2419   \n",
              "8                       4,1       10379             8195      2537   2537   \n",
              "9                       2,8        8666             6533      3121   3120   \n",
              "\n",
              "   Total time on page  Avg. time on page  Exit rate Conversions  \\\n",
              "0          1252:15:21           00:01:39       0,30        9143   \n",
              "1           520:11:02           00:01:20       0,25        2656   \n",
              "2           802:18:35           00:01:14       0,23        4689   \n",
              "3           347:03:14           00:01:53       0,39        3086   \n",
              "4           297:45:56           00:01:00       0,24        2232   \n",
              "5           268:17:15           00:01:16       0,27        2422   \n",
              "6           155:57:58           00:01:01       0,28        1305   \n",
              "7           183:26:18           00:01:16       0,22        1226   \n",
              "8           129:38:18           00:01:00       0,24         965   \n",
              "9           691:57:13           00:06:21       0,36        1130   \n",
              "\n",
              "  Conversion Rate  \n",
              "0            0.48  \n",
              "1            0.34  \n",
              "2            0.41  \n",
              "3            0.43  \n",
              "4            0.39  \n",
              "5            0.52  \n",
              "6            0.36  \n",
              "7            0.51  \n",
              "8            0.38  \n",
              "9            0.36  \n",
              "\n",
              "[10 rows x 23 columns]"
            ],
            "text/html": [
              "\n",
              "  <div id=\"df-da1cdf79-49a3-4fbc-b12a-9b6ed982d348\">\n",
              "    <div class=\"colab-df-container\">\n",
              "      <div>\n",
              "<style scoped>\n",
              "    .dataframe tbody tr th:only-of-type {\n",
              "        vertical-align: middle;\n",
              "    }\n",
              "\n",
              "    .dataframe tbody tr th {\n",
              "        vertical-align: top;\n",
              "    }\n",
              "\n",
              "    .dataframe thead th {\n",
              "        text-align: right;\n",
              "    }\n",
              "</style>\n",
              "<table border=\"1\" class=\"dataframe\">\n",
              "  <thead>\n",
              "    <tr style=\"text-align: right;\">\n",
              "      <th></th>\n",
              "      <th>Region</th>\n",
              "      <th>Land</th>\n",
              "      <th>Source</th>\n",
              "      <th>Medium</th>\n",
              "      <th>Unique visitors</th>\n",
              "      <th>Visits</th>\n",
              "      <th>New visits</th>\n",
              "      <th>Bounces</th>\n",
              "      <th>Pageviews</th>\n",
              "      <th>Total time on site</th>\n",
              "      <th>...</th>\n",
              "      <th>Avg. pageviews per visit</th>\n",
              "      <th>Pageviews2</th>\n",
              "      <th>Unique pageviews</th>\n",
              "      <th>Entrances</th>\n",
              "      <th>Exits</th>\n",
              "      <th>Total time on page</th>\n",
              "      <th>Avg. time on page</th>\n",
              "      <th>Exit rate</th>\n",
              "      <th>Conversions</th>\n",
              "      <th>Conversion Rate</th>\n",
              "    </tr>\n",
              "  </thead>\n",
              "  <tbody>\n",
              "    <tr>\n",
              "      <th>0</th>\n",
              "      <td>Arizona</td>\n",
              "      <td>USA</td>\n",
              "      <td>(direct)</td>\n",
              "      <td>(none)</td>\n",
              "      <td>7669</td>\n",
              "      <td>19118</td>\n",
              "      <td>7332</td>\n",
              "      <td>9071</td>\n",
              "      <td>64454</td>\n",
              "      <td>1255:43:51</td>\n",
              "      <td>...</td>\n",
              "      <td>3,4</td>\n",
              "      <td>64454</td>\n",
              "      <td>45074</td>\n",
              "      <td>19048</td>\n",
              "      <td>19048</td>\n",
              "      <td>1252:15:21</td>\n",
              "      <td>00:01:39</td>\n",
              "      <td>0,30</td>\n",
              "      <td>9143</td>\n",
              "      <td>0.48</td>\n",
              "    </tr>\n",
              "    <tr>\n",
              "      <th>1</th>\n",
              "      <td>(not set)</td>\n",
              "      <td>not set</td>\n",
              "      <td>google</td>\n",
              "      <td>organic</td>\n",
              "      <td>5462</td>\n",
              "      <td>7756</td>\n",
              "      <td>5094</td>\n",
              "      <td>3330</td>\n",
              "      <td>31031</td>\n",
              "      <td>521:09:20</td>\n",
              "      <td>...</td>\n",
              "      <td>4,0</td>\n",
              "      <td>31031</td>\n",
              "      <td>24545</td>\n",
              "      <td>7733</td>\n",
              "      <td>7733</td>\n",
              "      <td>520:11:02</td>\n",
              "      <td>00:01:20</td>\n",
              "      <td>0,25</td>\n",
              "      <td>2656</td>\n",
              "      <td>0.34</td>\n",
              "    </tr>\n",
              "    <tr>\n",
              "      <th>2</th>\n",
              "      <td>Arizona</td>\n",
              "      <td>USA</td>\n",
              "      <td>google</td>\n",
              "      <td>organic</td>\n",
              "      <td>5445</td>\n",
              "      <td>11489</td>\n",
              "      <td>4675</td>\n",
              "      <td>4162</td>\n",
              "      <td>50256</td>\n",
              "      <td>805:55:20</td>\n",
              "      <td>...</td>\n",
              "      <td>4,4</td>\n",
              "      <td>50256</td>\n",
              "      <td>37850</td>\n",
              "      <td>11467</td>\n",
              "      <td>11467</td>\n",
              "      <td>802:18:35</td>\n",
              "      <td>00:01:14</td>\n",
              "      <td>0,23</td>\n",
              "      <td>4689</td>\n",
              "      <td>0.41</td>\n",
              "    </tr>\n",
              "    <tr>\n",
              "      <th>3</th>\n",
              "      <td>(not set)</td>\n",
              "      <td>not set</td>\n",
              "      <td>(direct)</td>\n",
              "      <td>(none)</td>\n",
              "      <td>5307</td>\n",
              "      <td>7206</td>\n",
              "      <td>5153</td>\n",
              "      <td>3739</td>\n",
              "      <td>18260</td>\n",
              "      <td>347:26:08</td>\n",
              "      <td>...</td>\n",
              "      <td>2,5</td>\n",
              "      <td>18260</td>\n",
              "      <td>15033</td>\n",
              "      <td>7176</td>\n",
              "      <td>7176</td>\n",
              "      <td>347:03:14</td>\n",
              "      <td>00:01:53</td>\n",
              "      <td>0,39</td>\n",
              "      <td>3086</td>\n",
              "      <td>0.43</td>\n",
              "    </tr>\n",
              "    <tr>\n",
              "      <th>4</th>\n",
              "      <td>California</td>\n",
              "      <td>USA</td>\n",
              "      <td>google</td>\n",
              "      <td>organic</td>\n",
              "      <td>3903</td>\n",
              "      <td>5753</td>\n",
              "      <td>3638</td>\n",
              "      <td>2470</td>\n",
              "      <td>23536</td>\n",
              "      <td>307:17:50</td>\n",
              "      <td>...</td>\n",
              "      <td>4,1</td>\n",
              "      <td>23536</td>\n",
              "      <td>18575</td>\n",
              "      <td>5740</td>\n",
              "      <td>5740</td>\n",
              "      <td>297:45:56</td>\n",
              "      <td>00:01:00</td>\n",
              "      <td>0,24</td>\n",
              "      <td>2232</td>\n",
              "      <td>0.39</td>\n",
              "    </tr>\n",
              "    <tr>\n",
              "      <th>5</th>\n",
              "      <td>California</td>\n",
              "      <td>USA</td>\n",
              "      <td>(direct)</td>\n",
              "      <td>(none)</td>\n",
              "      <td>2857</td>\n",
              "      <td>4678</td>\n",
              "      <td>2707</td>\n",
              "      <td>2045</td>\n",
              "      <td>17401</td>\n",
              "      <td>272:27:33</td>\n",
              "      <td>...</td>\n",
              "      <td>3,7</td>\n",
              "      <td>17401</td>\n",
              "      <td>12423</td>\n",
              "      <td>4666</td>\n",
              "      <td>4666</td>\n",
              "      <td>268:17:15</td>\n",
              "      <td>00:01:16</td>\n",
              "      <td>0,27</td>\n",
              "      <td>2422</td>\n",
              "      <td>0.52</td>\n",
              "    </tr>\n",
              "    <tr>\n",
              "      <th>6</th>\n",
              "      <td>New York</td>\n",
              "      <td>USA</td>\n",
              "      <td>google</td>\n",
              "      <td>organic</td>\n",
              "      <td>2658</td>\n",
              "      <td>3612</td>\n",
              "      <td>2492</td>\n",
              "      <td>1635</td>\n",
              "      <td>12836</td>\n",
              "      <td>155:59:06</td>\n",
              "      <td>...</td>\n",
              "      <td>3,6</td>\n",
              "      <td>12836</td>\n",
              "      <td>10304</td>\n",
              "      <td>3607</td>\n",
              "      <td>3606</td>\n",
              "      <td>155:57:58</td>\n",
              "      <td>00:01:01</td>\n",
              "      <td>0,28</td>\n",
              "      <td>1305</td>\n",
              "      <td>0.36</td>\n",
              "    </tr>\n",
              "    <tr>\n",
              "      <th>7</th>\n",
              "      <td>Arizona</td>\n",
              "      <td>USA</td>\n",
              "      <td>my.thunderbird.edu</td>\n",
              "      <td>referral</td>\n",
              "      <td>854</td>\n",
              "      <td>2425</td>\n",
              "      <td>539</td>\n",
              "      <td>892</td>\n",
              "      <td>11146</td>\n",
              "      <td>185:03:31</td>\n",
              "      <td>...</td>\n",
              "      <td>4,6</td>\n",
              "      <td>11146</td>\n",
              "      <td>8323</td>\n",
              "      <td>2419</td>\n",
              "      <td>2419</td>\n",
              "      <td>183:26:18</td>\n",
              "      <td>00:01:16</td>\n",
              "      <td>0,22</td>\n",
              "      <td>1226</td>\n",
              "      <td>0.51</td>\n",
              "    </tr>\n",
              "    <tr>\n",
              "      <th>8</th>\n",
              "      <td>Texas</td>\n",
              "      <td>USA</td>\n",
              "      <td>google</td>\n",
              "      <td>organic</td>\n",
              "      <td>1987</td>\n",
              "      <td>2541</td>\n",
              "      <td>1855</td>\n",
              "      <td>985</td>\n",
              "      <td>10379</td>\n",
              "      <td>129:47:23</td>\n",
              "      <td>...</td>\n",
              "      <td>4,1</td>\n",
              "      <td>10379</td>\n",
              "      <td>8195</td>\n",
              "      <td>2537</td>\n",
              "      <td>2537</td>\n",
              "      <td>129:38:18</td>\n",
              "      <td>00:01:00</td>\n",
              "      <td>0,24</td>\n",
              "      <td>965</td>\n",
              "      <td>0.38</td>\n",
              "    </tr>\n",
              "    <tr>\n",
              "      <th>9</th>\n",
              "      <td>Arizona</td>\n",
              "      <td>USA</td>\n",
              "      <td>google</td>\n",
              "      <td>cpc</td>\n",
              "      <td>2834</td>\n",
              "      <td>3123</td>\n",
              "      <td>2378</td>\n",
              "      <td>1656</td>\n",
              "      <td>8666</td>\n",
              "      <td>696:33:24</td>\n",
              "      <td>...</td>\n",
              "      <td>2,8</td>\n",
              "      <td>8666</td>\n",
              "      <td>6533</td>\n",
              "      <td>3121</td>\n",
              "      <td>3120</td>\n",
              "      <td>691:57:13</td>\n",
              "      <td>00:06:21</td>\n",
              "      <td>0,36</td>\n",
              "      <td>1130</td>\n",
              "      <td>0.36</td>\n",
              "    </tr>\n",
              "  </tbody>\n",
              "</table>\n",
              "<p>10 rows × 23 columns</p>\n",
              "</div>\n",
              "      <button class=\"colab-df-convert\" onclick=\"convertToInteractive('df-da1cdf79-49a3-4fbc-b12a-9b6ed982d348')\"\n",
              "              title=\"Convert this dataframe to an interactive table.\"\n",
              "              style=\"display:none;\">\n",
              "        \n",
              "  <svg xmlns=\"http://www.w3.org/2000/svg\" height=\"24px\"viewBox=\"0 0 24 24\"\n",
              "       width=\"24px\">\n",
              "    <path d=\"M0 0h24v24H0V0z\" fill=\"none\"/>\n",
              "    <path d=\"M18.56 5.44l.94 2.06.94-2.06 2.06-.94-2.06-.94-.94-2.06-.94 2.06-2.06.94zm-11 1L8.5 8.5l.94-2.06 2.06-.94-2.06-.94L8.5 2.5l-.94 2.06-2.06.94zm10 10l.94 2.06.94-2.06 2.06-.94-2.06-.94-.94-2.06-.94 2.06-2.06.94z\"/><path d=\"M17.41 7.96l-1.37-1.37c-.4-.4-.92-.59-1.43-.59-.52 0-1.04.2-1.43.59L10.3 9.45l-7.72 7.72c-.78.78-.78 2.05 0 2.83L4 21.41c.39.39.9.59 1.41.59.51 0 1.02-.2 1.41-.59l7.78-7.78 2.81-2.81c.8-.78.8-2.07 0-2.86zM5.41 20L4 18.59l7.72-7.72 1.47 1.35L5.41 20z\"/>\n",
              "  </svg>\n",
              "      </button>\n",
              "      \n",
              "  <style>\n",
              "    .colab-df-container {\n",
              "      display:flex;\n",
              "      flex-wrap:wrap;\n",
              "      gap: 12px;\n",
              "    }\n",
              "\n",
              "    .colab-df-convert {\n",
              "      background-color: #E8F0FE;\n",
              "      border: none;\n",
              "      border-radius: 50%;\n",
              "      cursor: pointer;\n",
              "      display: none;\n",
              "      fill: #1967D2;\n",
              "      height: 32px;\n",
              "      padding: 0 0 0 0;\n",
              "      width: 32px;\n",
              "    }\n",
              "\n",
              "    .colab-df-convert:hover {\n",
              "      background-color: #E2EBFA;\n",
              "      box-shadow: 0px 1px 2px rgba(60, 64, 67, 0.3), 0px 1px 3px 1px rgba(60, 64, 67, 0.15);\n",
              "      fill: #174EA6;\n",
              "    }\n",
              "\n",
              "    [theme=dark] .colab-df-convert {\n",
              "      background-color: #3B4455;\n",
              "      fill: #D2E3FC;\n",
              "    }\n",
              "\n",
              "    [theme=dark] .colab-df-convert:hover {\n",
              "      background-color: #434B5C;\n",
              "      box-shadow: 0px 1px 3px 1px rgba(0, 0, 0, 0.15);\n",
              "      filter: drop-shadow(0px 1px 2px rgba(0, 0, 0, 0.3));\n",
              "      fill: #FFFFFF;\n",
              "    }\n",
              "  </style>\n",
              "\n",
              "      <script>\n",
              "        const buttonEl =\n",
              "          document.querySelector('#df-da1cdf79-49a3-4fbc-b12a-9b6ed982d348 button.colab-df-convert');\n",
              "        buttonEl.style.display =\n",
              "          google.colab.kernel.accessAllowed ? 'block' : 'none';\n",
              "\n",
              "        async function convertToInteractive(key) {\n",
              "          const element = document.querySelector('#df-da1cdf79-49a3-4fbc-b12a-9b6ed982d348');\n",
              "          const dataTable =\n",
              "            await google.colab.kernel.invokeFunction('convertToInteractive',\n",
              "                                                     [key], {});\n",
              "          if (!dataTable) return;\n",
              "\n",
              "          const docLinkHtml = 'Like what you see? Visit the ' +\n",
              "            '<a target=\"_blank\" href=https://colab.research.google.com/notebooks/data_table.ipynb>data table notebook</a>'\n",
              "            + ' to learn more about interactive tables.';\n",
              "          element.innerHTML = '';\n",
              "          dataTable['output_type'] = 'display_data';\n",
              "          await google.colab.output.renderOutput(dataTable, element);\n",
              "          const docLink = document.createElement('div');\n",
              "          docLink.innerHTML = docLinkHtml;\n",
              "          element.appendChild(docLink);\n",
              "        }\n",
              "      </script>\n",
              "    </div>\n",
              "  </div>\n",
              "  "
            ]
          },
          "metadata": {},
          "execution_count": 4
        }
      ]
    },
    {
      "cell_type": "markdown",
      "source": [
        "# Analyse\n",
        "\n",
        "## .. nach Regionen"
      ],
      "metadata": {
        "id": "nXVMDr_sukxP"
      }
    },
    {
      "cell_type": "code",
      "source": [
        "kpi = ['Visits', 'New visits', 'Unique visitors', 'Pageviews','Bounces']\n",
        "df[df.Land.isin(['USA','International'])].groupby(['Land'])[kpi].sum().T.plot(kind='bar', title='Analyse der Daten nach Regionen (1/4)')"
      ],
      "metadata": {
        "colab": {
          "base_uri": "https://localhost:8080/",
          "height": 364
        },
        "id": "Nj2RPPs61o4S",
        "outputId": "c50e7ce9-f457-493a-edbb-607f57acc7cc"
      },
      "execution_count": 5,
      "outputs": [
        {
          "output_type": "execute_result",
          "data": {
            "text/plain": [
              "<matplotlib.axes._subplots.AxesSubplot at 0x7fb123f99590>"
            ]
          },
          "metadata": {},
          "execution_count": 5
        },
        {
          "output_type": "display_data",
          "data": {
            "text/plain": [
              "<Figure size 432x288 with 1 Axes>"
            ],
            "image/png": "[encoded data removed]"
          },
          "metadata": {
            "needs_background": "light"
          }
        }
      ]
    },
    {
      "cell_type": "code",
      "source": [
        "kpi = ['Bounce rate','New visits %' ,'Conversion Rate']\n",
        "df[df.Land.isin(['USA','International'])].groupby(['Land'])[kpi].mean().T.plot(kind='bar', title='Analyse der Daten nach Regionen (2/4)')"
      ],
      "metadata": {
        "colab": {
          "base_uri": "https://localhost:8080/",
          "height": 371
        },
        "id": "Kjc0WkVevX29",
        "outputId": "ec9207a8-1038-40f0-c6b3-2b01397e25f1"
      },
      "execution_count": 6,
      "outputs": [
        {
          "output_type": "execute_result",
          "data": {
            "text/plain": [
              "<matplotlib.axes._subplots.AxesSubplot at 0x7fb123f61ed0>"
            ]
          },
          "metadata": {},
          "execution_count": 6
        },
        {
          "output_type": "display_data",
          "data": {
            "text/plain": [
              "<Figure size 432x288 with 1 Axes>"
            ],
            "image/png": "[encoded data removed]"
          },
          "metadata": {
            "needs_background": "light"
          }
        }
      ]
    },
    {
      "cell_type": "code",
      "source": [
        "regions = ['Arizona', 'California', 'New York', 'Texas', 'Florida']\n",
        "compare_regions = df.loc[df['Region'].isin(regions)]"
      ],
      "metadata": {
        "id": "PW9qWEz5SvHn"
      },
      "execution_count": 7,
      "outputs": []
    },
    {
      "cell_type": "code",
      "source": [
        "compare_regions.groupby(['Region'])['Visits'].sum().sort_values(ascending=False).T.plot(kind='bar', title='Analyse der Daten nach Regionen (3/4)')"
      ],
      "metadata": {
        "colab": {
          "base_uri": "https://localhost:8080/",
          "height": 351
        },
        "id": "_gs9fp1nINSI",
        "outputId": "742e1e22-87e4-48cd-b44b-285294b5f291"
      },
      "execution_count": 8,
      "outputs": [
        {
          "output_type": "execute_result",
          "data": {
            "text/plain": [
              "<matplotlib.axes._subplots.AxesSubplot at 0x7fb123a6a350>"
            ]
          },
          "metadata": {},
          "execution_count": 8
        },
        {
          "output_type": "display_data",
          "data": {
            "text/plain": [
              "<Figure size 432x288 with 1 Axes>"
            ],
            "image/png": "[encoded data removed]"
          },
          "metadata": {
            "needs_background": "light"
          }
        }
      ]
    },
    {
      "cell_type": "markdown",
      "source": [
        "##.. nach Kanälen"
      ],
      "metadata": {
        "id": "RhDtwPIX8duX"
      }
    },
    {
      "cell_type": "code",
      "source": [
        "source_list = ['google','yahoo','linkedin', 'facebook','thunderbird','bing','baidu','direct']\n",
        "\n",
        "for source in source_list:\n",
        "  df.loc[df.Source.str.contains(source), 'Source'] = source\n",
        "\n",
        "df.loc[~df[\"Source\"].isin(source_list), \"Source\"] = \"other\"\n",
        "\n",
        "kpi = ['Visits', 'New visits', 'Pageviews', 'Conversions' ]\n",
        "df.groupby(['Source'])[kpi].sum().T.plot(kind='bar', title='Analyse der Daten nach Kanal (1/2)')"
      ],
      "metadata": {
        "colab": {
          "base_uri": "https://localhost:8080/",
          "height": 350
        },
        "id": "VfpJEeJ87jgr",
        "outputId": "b89cd86b-4b46-4a47-a308-b06fcff9fe37"
      },
      "execution_count": 9,
      "outputs": [
        {
          "output_type": "execute_result",
          "data": {
            "text/plain": [
              "<matplotlib.axes._subplots.AxesSubplot at 0x7fb1241500d0>"
            ]
          },
          "metadata": {},
          "execution_count": 9
        },
        {
          "output_type": "display_data",
          "data": {
            "text/plain": [
              "<Figure size 432x288 with 1 Axes>"
            ],
            "image/png": "[encoded data removed]"
          },
          "metadata": {
            "needs_background": "light"
          }
        }
      ]
    },
    {
      "cell_type": "code",
      "source": [
        "df.groupby(['Source'])['Conversion Rate'].mean().sort_values(ascending=False).T.plot(kind='bar', title='Analyse der Daten nach Kanal (2/2)')"
      ],
      "metadata": {
        "colab": {
          "base_uri": "https://localhost:8080/",
          "height": 362
        },
        "id": "emVjfAarARzJ",
        "outputId": "1b5e3fda-5424-4d4b-ec74-4974b8a39e5d"
      },
      "execution_count": 10,
      "outputs": [
        {
          "output_type": "execute_result",
          "data": {
            "text/plain": [
              "<matplotlib.axes._subplots.AxesSubplot at 0x7fb12391a890>"
            ]
          },
          "metadata": {},
          "execution_count": 10
        },
        {
          "output_type": "display_data",
          "data": {
            "text/plain": [
              "<Figure size 432x288 with 1 Axes>"
            ],
            "image/png": "[encoded data removed]"
          },
          "metadata": {
            "needs_background": "light"
          }
        }
      ]
    },
    {
      "cell_type": "code",
      "source": [
        ""
      ],
      "metadata": {
        "id": "iUT6Ik0gAUZ7"
      },
      "execution_count": 10,
      "outputs": []
    }
  ]
}